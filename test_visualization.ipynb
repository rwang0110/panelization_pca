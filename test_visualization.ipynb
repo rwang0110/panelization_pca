{
 "cells": [
  {
   "cell_type": "markdown",
   "metadata": {},
   "source": []
  },
  {
   "cell_type": "code",
   "execution_count": 2,
   "metadata": {
    "tags": []
   },
   "outputs": [
    {
     "output_type": "stream",
     "name": "stdout",
     "text": "C:\\Users\\richa\\anaconda3\\envs\\panelization\\python.exe\n3.6.10 |Anaconda, Inc.| (default, May  7 2020, 19:46:08) [MSC v.1916 64 bit (AMD64)]\nsys.version_info(major=3, minor=6, micro=10, releaselevel='final', serial=0)\n"
    }
   ],
   "source": [
    "import numpy as np\n",
    "import open3d as o3d\n",
    "import sklearn as sk\n",
    "import time\n",
    "#import pandas as pd\n",
    "#from open3d import JVisualizer\n",
    "import sys\n",
    "\n",
    "print(sys.executable)\n",
    "print(sys.version)\n",
    "print(sys.version_info)"
   ]
  },
  {
   "cell_type": "code",
   "execution_count": 11,
   "metadata": {},
   "outputs": [],
   "source": [
    "import downsample\n",
    "import classify"
   ]
  },
  {
   "cell_type": "code",
   "execution_count": 2,
   "metadata": {
    "tags": []
   },
   "outputs": [
    {
     "output_type": "error",
     "ename": "NameError",
     "evalue": "name 'downsample' is not defined",
     "traceback": [
      "\u001b[1;31m---------------------------------------------------------------------------\u001b[0m",
      "\u001b[1;31mNameError\u001b[0m                                 Traceback (most recent call last)",
      "\u001b[1;32m<ipython-input-2-820fe9829b64>\u001b[0m in \u001b[0;36m<module>\u001b[1;34m\u001b[0m\n\u001b[1;32m----> 1\u001b[1;33m \u001b[0mdownsample\u001b[0m\u001b[1;33m.\u001b[0m\u001b[0mdown_sample_write\u001b[0m\u001b[1;33m(\u001b[0m\u001b[1;34m\"data/36_N_First_RCS_downsampled_0.1\"\u001b[0m\u001b[1;33m,\u001b[0m \u001b[1;36m0.05\u001b[0m\u001b[1;33m)\u001b[0m\u001b[1;33m\u001b[0m\u001b[1;33m\u001b[0m\u001b[0m\n\u001b[0m",
      "\u001b[1;31mNameError\u001b[0m: name 'downsample' is not defined"
     ]
    }
   ],
   "source": [
    "downsample.down_sample_write(\"data/36_N_First_RCS_downsampled_0.1\", 0.05)"
   ]
  },
  {
   "cell_type": "code",
   "execution_count": 16,
   "metadata": {
    "tags": []
   },
   "outputs": [],
   "source": [
    "point_cloud = o3d.io.read_point_cloud(\"data/36_N_First_RCS_downsampled_0.1.pcd\")\n",
    "\n"
   ]
  },
  {
   "cell_type": "code",
   "execution_count": 13,
   "metadata": {
    "tags": []
   },
   "outputs": [
    {
     "output_type": "stream",
     "name": "stdout",
     "text": "11892\n"
    }
   ],
   "source": [
    "classify.isolated_density_filter(point_cloud, 1.0)\n",
    "pcd_tree = o3d.geometry.KDTreeFlann(point_cloud)\n",
    "[k, idx, _] = pcd_tree.search_radius_vector_3d(point_cloud.points[500], 3.0)\n",
    "print(k)\n",
    "np.asarray(point_cloud.colors)[idx[1:], :] = [0, 0, 1]\n",
    "o3d.visualization.draw_geometries([point_cloud])"
   ]
  },
  {
   "cell_type": "code",
   "execution_count": 18,
   "metadata": {
    "tags": []
   },
   "outputs": [
    {
     "output_type": "stream",
     "name": "stdout",
     "text": "total time:  82.91758419999996\n"
    }
   ],
   "source": [
    "start = time.clock()\n",
    "#apply isolated density filter\n",
    "#scatter_set, linear_set, planar_set, other_set = classify.segment_scatter_planar(point_cloud, 100, search='knn') #250, search=knn\n",
    "\n",
    "scatter_set, linear_set, planar_set, other_set = classify.segment_scatter_planar(point_cloud, r_pca=1.35, k_nn=150, search='radius')\n",
    "classify.color_pcd_points(point_cloud, scatter_set, linear_set, planar_set, other_set)\n",
    "#classify.clean_planar(point_cloud, 2.0, 350, 500, 'radius', planar_set)\n",
    "print(\"total time: \", time.clock() - start)\n",
    "o3d.visualization.draw_geometries([point_cloud])\n"
   ]
  },
  {
   "cell_type": "code",
   "execution_count": null,
   "metadata": {},
   "outputs": [],
   "source": []
  }
 ],
 "metadata": {
  "kernelspec": {
   "display_name": "Python 3.6.10 64-bit ('panelization': conda)",
   "language": "python",
   "name": "python_defaultSpec_1595798288190"
  },
  "language_info": {
   "codemirror_mode": {
    "name": "ipython",
    "version": 3
   },
   "file_extension": ".py",
   "mimetype": "text/x-python",
   "name": "python",
   "nbconvert_exporter": "python",
   "pygments_lexer": "ipython3",
   "version": "3.6.10-final"
  }
 },
 "nbformat": 4,
 "nbformat_minor": 2
}