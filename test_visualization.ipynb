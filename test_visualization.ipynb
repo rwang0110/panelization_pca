{
 "cells": [
  {
   "cell_type": "markdown",
   "metadata": {},
   "source": []
  },
  {
   "cell_type": "code",
   "execution_count": 3,
   "metadata": {
    "tags": []
   },
   "outputs": [
    {
     "output_type": "stream",
     "name": "stdout",
     "text": "C:\\Users\\richa\\anaconda3\\envs\\panelization\\python.exe\n3.6.10 |Anaconda, Inc.| (default, May  7 2020, 19:46:08) [MSC v.1916 64 bit (AMD64)]\nsys.version_info(major=3, minor=6, micro=10, releaselevel='final', serial=0)\n"
    }
   ],
   "source": [
    "import numpy as np\n",
    "import open3d as o3d\n",
    "import sklearn as sk\n",
    "import time\n",
    "#import pandas as pd\n",
    "#from open3d import JVisualizer\n",
    "import sys\n",
    "\n",
    "print(sys.executable)\n",
    "print(sys.version)\n",
    "print(sys.version_info)"
   ]
  },
  {
   "cell_type": "code",
   "execution_count": 4,
   "metadata": {},
   "outputs": [],
   "source": [
    "import downsample\n",
    "import classify\n"
   ]
  },
  {
   "cell_type": "code",
   "execution_count": 2,
   "metadata": {
    "tags": []
   },
   "outputs": [
    {
     "output_type": "error",
     "ename": "NameError",
     "evalue": "name 'downsample' is not defined",
     "traceback": [
      "\u001b[1;31m---------------------------------------------------------------------------\u001b[0m",
      "\u001b[1;31mNameError\u001b[0m                                 Traceback (most recent call last)",
      "\u001b[1;32m<ipython-input-2-820fe9829b64>\u001b[0m in \u001b[0;36m<module>\u001b[1;34m\u001b[0m\n\u001b[1;32m----> 1\u001b[1;33m \u001b[0mdownsample\u001b[0m\u001b[1;33m.\u001b[0m\u001b[0mdown_sample_write\u001b[0m\u001b[1;33m(\u001b[0m\u001b[1;34m\"data/36_N_First_RCS_downsampled_0.1\"\u001b[0m\u001b[1;33m,\u001b[0m \u001b[1;36m0.05\u001b[0m\u001b[1;33m)\u001b[0m\u001b[1;33m\u001b[0m\u001b[1;33m\u001b[0m\u001b[0m\n\u001b[0m",
      "\u001b[1;31mNameError\u001b[0m: name 'downsample' is not defined"
     ]
    }
   ],
   "source": [
    "downsample.down_sample_write(\"data/36_N_First_RCS_downsampled_0.1\", 0.05)"
   ]
  },
  {
   "cell_type": "code",
   "execution_count": 3,
   "metadata": {
    "tags": []
   },
   "outputs": [
    {
     "output_type": "stream",
     "name": "stdout",
     "text": "pcd file already exists\n"
    }
   ],
   "source": [
    "#point_cloud = o3d.io.read_point_cloud(\"data/36_N_First_RCS_downsampled_0.1.pcd\")\n",
    "\n",
    "point_cloud = o3d.io.read_point_cloud(\"D:/Research Project - Zahkor/Open3D-PointNet2-Semantic3D-master/dataset/semantic_raw/bildstein_station1_xyz_intensity_rgb.pcd\")\n",
    "\n",
    "downsample.down_sample_write(\"D:/Research Project - Zahkor/Open3D-PointNet2-Semantic3D-master/dataset/semantic_raw/bildstein_station1_xyz_intensity_rgb\", 0.1)\n",
    "#o3d.visualization.draw_geometries([point_cloud])\n"
   ]
  },
  {
   "cell_type": "code",
   "execution_count": 3,
   "metadata": {
    "tags": []
   },
   "outputs": [
    {
     "output_type": "error",
     "ename": "NameError",
     "evalue": "name 'point_cloud' is not defined",
     "traceback": [
      "\u001b[1;31m---------------------------------------------------------------------------\u001b[0m",
      "\u001b[1;31mNameError\u001b[0m                                 Traceback (most recent call last)",
      "\u001b[1;32m<ipython-input-3-98bda163c2f3>\u001b[0m in \u001b[0;36m<module>\u001b[1;34m\u001b[0m\n\u001b[1;32m----> 1\u001b[1;33m \u001b[0mclassify\u001b[0m\u001b[1;33m.\u001b[0m\u001b[0misolated_density_filter\u001b[0m\u001b[1;33m(\u001b[0m\u001b[0mpoint_cloud\u001b[0m\u001b[1;33m,\u001b[0m \u001b[1;36m1.0\u001b[0m\u001b[1;33m)\u001b[0m\u001b[1;33m\u001b[0m\u001b[1;33m\u001b[0m\u001b[0m\n\u001b[0m\u001b[0;32m      2\u001b[0m \u001b[0mpcd_tree\u001b[0m \u001b[1;33m=\u001b[0m \u001b[0mo3d\u001b[0m\u001b[1;33m.\u001b[0m\u001b[0mgeometry\u001b[0m\u001b[1;33m.\u001b[0m\u001b[0mKDTreeFlann\u001b[0m\u001b[1;33m(\u001b[0m\u001b[0mpoint_cloud\u001b[0m\u001b[1;33m)\u001b[0m\u001b[1;33m\u001b[0m\u001b[1;33m\u001b[0m\u001b[0m\n\u001b[0;32m      3\u001b[0m \u001b[1;33m[\u001b[0m\u001b[0mk\u001b[0m\u001b[1;33m,\u001b[0m \u001b[0midx\u001b[0m\u001b[1;33m,\u001b[0m \u001b[0m_\u001b[0m\u001b[1;33m]\u001b[0m \u001b[1;33m=\u001b[0m \u001b[0mpcd_tree\u001b[0m\u001b[1;33m.\u001b[0m\u001b[0msearch_knn_vector_3d\u001b[0m\u001b[1;33m(\u001b[0m\u001b[0mpoint_cloud\u001b[0m\u001b[1;33m.\u001b[0m\u001b[0mpoints\u001b[0m\u001b[1;33m[\u001b[0m\u001b[1;36m54500\u001b[0m\u001b[1;33m]\u001b[0m\u001b[1;33m,\u001b[0m \u001b[1;36m150\u001b[0m\u001b[1;33m)\u001b[0m\u001b[1;33m\u001b[0m\u001b[1;33m\u001b[0m\u001b[0m\n\u001b[0;32m      4\u001b[0m \u001b[0mpca_vals\u001b[0m \u001b[1;33m=\u001b[0m \u001b[0mclassify\u001b[0m\u001b[1;33m.\u001b[0m\u001b[0mconvert_pca_to_p\u001b[0m\u001b[1;33m(\u001b[0m\u001b[0mclassify\u001b[0m\u001b[1;33m.\u001b[0m\u001b[0mcalculate_pca_of_set\u001b[0m\u001b[1;33m(\u001b[0m\u001b[0mnp\u001b[0m\u001b[1;33m.\u001b[0m\u001b[0masarray\u001b[0m\u001b[1;33m(\u001b[0m\u001b[0mpoint_cloud\u001b[0m\u001b[1;33m.\u001b[0m\u001b[0mpoints\u001b[0m\u001b[1;33m)\u001b[0m\u001b[1;33m[\u001b[0m\u001b[0midx\u001b[0m\u001b[1;33m,\u001b[0m\u001b[1;33m:\u001b[0m\u001b[1;33m]\u001b[0m\u001b[1;33m)\u001b[0m\u001b[1;33m)\u001b[0m\u001b[1;33m\u001b[0m\u001b[1;33m\u001b[0m\u001b[0m\n\u001b[0;32m      5\u001b[0m \u001b[0mprint\u001b[0m\u001b[1;33m(\u001b[0m\u001b[0mpca_vals\u001b[0m\u001b[1;33m)\u001b[0m\u001b[1;33m\u001b[0m\u001b[1;33m\u001b[0m\u001b[0m\n",
      "\u001b[1;31mNameError\u001b[0m: name 'point_cloud' is not defined"
     ]
    }
   ],
   "source": [
    "classify.isolated_density_filter(point_cloud, 1.0)\n",
    "pcd_tree = o3d.geometry.KDTreeFlann(point_cloud)\n",
    "[k, idx, _] = pcd_tree.search_knn_vector_3d(point_cloud.points[54500], 150)\n",
    "pca_vals = classify.convert_pca_to_p(classify.calculate_pca_of_set(np.asarray(point_cloud.points)[idx,:]))\n",
    "print(pca_vals)\n",
    "np.asarray(point_cloud.colors)[idx[1:], :] = [0, 0, 1]\n",
    "o3d.visualization.draw_geometries([point_cloud])"
   ]
  },
  {
   "cell_type": "code",
   "execution_count": 44,
   "metadata": {
    "tags": []
   },
   "outputs": [],
   "source": [
    "point_cloud = o3d.io.read_point_cloud(\"D:/Research Project - Zahkor/Open3D-PointNet2-Semantic3D-master/dataset/semantic_raw/bildstein_station1_xyz_intensity_rgb_downsampled_0.1.pcd\")\n",
    "#o3d.visualization.draw_geometries([point_cloud])"
   ]
  },
  {
   "cell_type": "code",
   "execution_count": 27,
   "metadata": {},
   "outputs": [],
   "source": [
    "point_cloud = o3d.io.read_point_cloud(\"data/36_N_First_RCS_downsampled_0.1.pcd\")\n",
    "\n"
   ]
  },
  {
   "cell_type": "code",
   "execution_count": 45,
   "metadata": {
    "tags": []
   },
   "outputs": [
    {
     "output_type": "stream",
     "name": "stdout",
     "text": "3\ntotal time:  834.8727291999985\n"
    }
   ],
   "source": [
    "start = time.clock()\n",
    "#apply isolated density filter\n",
    "#scatter_set, linear_set, planar_set, other_set = classify.segment_scatter_planar(point_cloud, 100, search='knn') #250, search=knn\n",
    "\n",
    "all_set, scatter_set, linear_set, planar_set, other_set = classify.segment_scatter_planar(point_cloud, r_pca=1.5, k_nn=100, search='knn')\n",
    "scatter = classify.grouping(point_cloud, r_seg=1.0, k_nn = 150, search='knn', all_set=all_set)\n",
    "#classify.color_pcd_points(point_cloud, scatter_set, linear_set, planar_set, other_set)\n",
    "#sample = scatter_components[3]\n",
    "print(len(scatter_components))\n",
    "#classify.clean_planar(point_cloud, 2.0, 350, 500, 'radius', planar_set)\n",
    "#for sample in scatter_components:\n",
    "#np.asarray(point_cloud.colors)[sample,:] = [1, 0, 0]\n",
    "print(\"total time: \", time.clock() - start)\n",
    "o3d.visualization.draw_geometries([point_cloud])\n"
   ]
  },
  {
   "cell_type": "code",
   "execution_count": 47,
   "metadata": {
    "tags": []
   },
   "outputs": [],
   "source": [
    "#point_cloud = o3d.io.read_point_cloud(\"data/36_N_First_RCS_downsampled_0.1.pcd\")\n",
    "\n",
    "point_cloud = o3d.io.read_point_cloud(\"D:/Research Project - Zahkor/Open3D-PointNet2-Semantic3D-master/dataset/semantic_raw/bildstein_station1_xyz_intensity_rgb_downsampled_0.1.pcd\")\n",
    "#for sample in scatter_components:\n",
    "sample = scatter_components[2]\n",
    "sample = classify.grow_region(point_cloud, region=sample, r_seg=0.75, k_nn=100, search='radius')\n",
    "np.asarray(point_cloud.colors)[sample,:] = [1, 0, 0]\n",
    "\n",
    "o3d.visualization.draw_geometries([point_cloud])\n"
   ]
  },
  {
   "cell_type": "code",
   "execution_count": 23,
   "metadata": {
    "tags": []
   },
   "outputs": [
    {
     "output_type": "stream",
     "name": "stdout",
     "text": "14380 [590.23155999 215.3809972  126.63476075]\n18841 [930.44840514 569.39522958 135.10420545]\n10408 [670.1673264  256.55075838 107.56210319]\n['Other', 'Other', 'Other']\n"
    }
   ],
   "source": [
    "classification = []\n",
    "for sample in scatter_components:\n",
    "    pca = classify.calculate_pca_of_set(np.asarray(point_cloud.points)[sample,:])\n",
    "    print(len(sample), pca)\n",
    "    label = classify.classify_p_values(classify.convert_pca_to_p(pca))\n",
    "    classification.append(classify.classify_label(label))\n",
    "\n",
    "print(classification)"
   ]
  },
  {
   "cell_type": "code",
   "execution_count": null,
   "metadata": {},
   "outputs": [],
   "source": []
  }
 ],
 "metadata": {
  "kernelspec": {
   "display_name": "Python 3.6.10 64-bit ('panelization': conda)",
   "language": "python",
   "name": "python_defaultSpec_1595897996672"
  },
  "language_info": {
   "codemirror_mode": {
    "name": "ipython",
    "version": 3
   },
   "file_extension": ".py",
   "mimetype": "text/x-python",
   "name": "python",
   "nbconvert_exporter": "python",
   "pygments_lexer": "ipython3",
   "version": "3.6.10-final"
  }
 },
 "nbformat": 4,
 "nbformat_minor": 2
}