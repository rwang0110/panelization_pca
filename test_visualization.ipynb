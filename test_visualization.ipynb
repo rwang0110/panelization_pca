{
 "cells": [
  {
   "cell_type": "markdown",
   "metadata": {},
   "source": []
  },
  {
   "cell_type": "code",
   "execution_count": 5,
   "metadata": {
    "tags": []
   },
   "outputs": [
    {
     "output_type": "stream",
     "name": "stdout",
     "text": "C:\\Users\\richa\\anaconda3\\envs\\panelization\\python.exe\n3.6.10 |Anaconda, Inc.| (default, May  7 2020, 19:46:08) [MSC v.1916 64 bit (AMD64)]\nsys.version_info(major=3, minor=6, micro=10, releaselevel='final', serial=0)\n"
    }
   ],
   "source": [
    "import numpy as np\n",
    "import open3d as o3d\n",
    "import sklearn as sk\n",
    "import time\n",
    "#import pandas as pd\n",
    "#from open3d import JVisualizer\n",
    "import sys\n",
    "\n",
    "print(sys.executable)\n",
    "print(sys.version)\n",
    "print(sys.version_info)"
   ]
  },
  {
   "cell_type": "code",
   "execution_count": 6,
   "metadata": {},
   "outputs": [],
   "source": [
    "import downsample\n",
    "import classify"
   ]
  },
  {
   "cell_type": "code",
   "execution_count": 3,
   "metadata": {
    "tags": []
   },
   "outputs": [
    {
     "output_type": "stream",
     "name": "stdout",
     "text": "has points: True\nhas colors: True\nloading time: 0.0406417 s\n"
    }
   ],
   "source": [
    "downsample.sanity_check(\"data/36_N_First_RCS_downsampled.pcd\")\n",
    "\n"
   ]
  },
  {
   "cell_type": "code",
   "execution_count": 10,
   "metadata": {},
   "outputs": [],
   "source": [
    "point_cloud = o3d.io.read_point_cloud(\"data/36_N_First_RCS_downsampled.pcd\")\n"
   ]
  },
  {
   "cell_type": "code",
   "execution_count": 12,
   "metadata": {},
   "outputs": [],
   "source": [
    "pcd_tree = o3d.geometry.KDTreeFlann(point_cloud)\n",
    "[k, idx, _] = pcd_tree.search_radius_vector_3d(point_cloud.points[500], 1.0)\n",
    "\n",
    "np.asarray(point_cloud.colors)[idx[1:], :] = [0, 0, 1]\n",
    "o3d.visualization.draw_geometries([point_cloud])"
   ]
  },
  {
   "cell_type": "code",
   "execution_count": 9,
   "metadata": {
    "tags": []
   },
   "outputs": [
    {
     "output_type": "stream",
     "name": "stdout",
     "text": "total time:  713.7839814999988\n"
    }
   ],
   "source": [
    "start = time.clock()\n",
    "classify.segment_scatter_planar(point_cloud, 700, search='knn')\n",
    "o3d.visualization.draw_geometries([point_cloud])\n",
    "print(\"total time: \", time.clock() - start)"
   ]
  },
  {
   "cell_type": "code",
   "execution_count": 14,
   "metadata": {},
   "outputs": [],
   "source": [
    "#test plane segmentation\n",
    "equation, inliers = point_cloud.segment_plane(distance_threshold=0.25,\n",
    "                                        ransac_n=3,\n",
    "                                         num_iterations=1000)\n",
    "[a, b, c, d] = equation\n",
    "np.asarray(point_cloud.colors)[inliers] = [1, 0, 0]\n",
    "o3d.visualization.draw_geometries([point_cloud])"
   ]
  },
  {
   "cell_type": "code",
   "execution_count": null,
   "metadata": {},
   "outputs": [],
   "source": []
  }
 ],
 "metadata": {
  "kernelspec": {
   "display_name": "Python 3.6.10 64-bit ('panelization': conda)",
   "language": "python",
   "name": "python_defaultSpec_1595371649162"
  },
  "language_info": {
   "codemirror_mode": {
    "name": "ipython",
    "version": 3
   },
   "file_extension": ".py",
   "mimetype": "text/x-python",
   "name": "python",
   "nbconvert_exporter": "python",
   "pygments_lexer": "ipython3",
   "version": "3.6.10-final"
  }
 },
 "nbformat": 4,
 "nbformat_minor": 2
}