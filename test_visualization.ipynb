{
 "cells": [
  {
   "cell_type": "markdown",
   "metadata": {},
   "source": []
  },
  {
   "cell_type": "code",
   "execution_count": 2,
   "metadata": {
    "tags": []
   },
   "outputs": [],
   "source": [
    "import numpy as np\n",
    "import open3d as o3d\n",
    "import sklearn as sk\n",
    "import time\n",
    "import os\n",
    "#import pandas as pd\n",
    "#from open3d import JVisualizer"
   ]
  },
  {
   "cell_type": "code",
   "execution_count": 3,
   "metadata": {},
   "outputs": [],
   "source": [
    "import downsample\n",
    "import classify\n",
    "import preprocess\n",
    "import segmentation\n",
    "import visualization_tools"
   ]
  },
  {
   "cell_type": "code",
   "execution_count": null,
   "metadata": {
    "tags": []
   },
   "outputs": [],
   "source": [
    "point_cloud = o3d.io.read_point_cloud(\"D:/Research Project - Zahkor/Open3D-PointNet2-Semantic3D-master/dataset/semantic_raw/bildstein_station1_xyz_intensity_rgb_downsampled_0.1.pcd\")\n",
    "#o3d.visualization.draw_geometries([point_cloud])"
   ]
  },
  {
   "cell_type": "code",
   "execution_count": null,
   "metadata": {
    "tags": []
   },
   "outputs": [],
   "source": [
    "point_cloud = o3d.io.read_point_cloud(\"data/36_N_First_RCS_downsampled_0.1.pcd\")\n",
    "#plane_model, inliers = point_cloud.segment_plane(distance_threshold=0.5,\n",
    "                                        #ransac_n=3,\n",
    "                                         #num_iterations=1000)\n",
    "#inlier_cloud = point_cloud.select_by_index(inliers)\n",
    "#inlier_cloud.paint_uniform_color([1.0, 0, 0])\n",
    "#o3d.visualization.draw_geometries([inlier_cloud, point_cloud])\n",
    "#point_cloud = o3d.io.read_point_cloud(\"data/36_N_First_RCS.pcd\")\n"
   ]
  },
  {
   "cell_type": "code",
   "execution_count": null,
   "metadata": {
    "tags": []
   },
   "outputs": [],
   "source": [
    "start = time.clock()\n",
    "#apply isolated density filter\n",
    "#scatter_set, linear_set, planar_set, other_set = classify.segment_scatter_planar(point_cloud, 100, search='knn') #250, search=knn\n",
    "\n",
    "all_set, scatter_set, linear_set, planar_set, other_set = classify.segment_scatter_planar(point_cloud, r_pca=1.0, k_nn=150, search='knn')\n",
    "print(len(all_set))\n",
    "print(\"total time: \", time.clock() - start)\n",
    "o3d.visualization.draw_geometries([point_cloud])\n"
   ]
  },
  {
   "cell_type": "code",
   "execution_count": null,
   "metadata": {},
   "outputs": [],
   "source": [
    "facade_pcd = o3d.io.read_point_cloud(\"data/36_N_First_RCS_facade.pcd\")\n",
    "o3d.visualization.draw_geometries([facade_pcd])\n"
   ]
  },
  {
   "cell_type": "code",
   "execution_count": null,
   "metadata": {
    "tags": []
   },
   "outputs": [],
   "source": [
    "#estimate normals for the following point cloud\n",
    "pcd = o3d.io.read_point_cloud(\"data/36_N_First_RCS_downsampled_0.1.pcd\")\n",
    "search_tree = o3d.geometry.KDTreeSearchParamHybrid(radius=0.5, max_nn=100)\n",
    "pcd.estimate_normals(search_param=search_tree)\n",
    "\n",
    "#group based on normals\n",
    "\n",
    "connected_components = classify.group_by_normals(pcd, r_seg=1.0, k_nn=100, search='knn')\n",
    "print(len(connected_components))\n",
    "o3d.visualization.draw_geometries([pcd], point_show_normal=True)"
   ]
  },
  {
   "cell_type": "code",
   "execution_count": 12,
   "metadata": {},
   "outputs": [],
   "source": [
    "williams_building_pcd = o3d.io.read_point_cloud(\"D:/Research Project - Zahkor/panelization pca/data/williamsport_bldings-5-5a_segment.pcd\")\n",
    "equation, inliers = groups[4]\n",
    "visualization_tools.visualize_3d_equation(williams_building_pcd, equation, distance_threshhold=0.1)"
   ]
  },
  {
   "cell_type": "code",
   "execution_count": 6,
   "metadata": {
    "tags": []
   },
   "outputs": [
    {
     "output_type": "stream",
     "name": "stdout",
     "text": "converting pts file to pcd\n"
    }
   ],
   "source": [
    "#downsample.down_sample_write(\"D:/Research Project - Zahkor/panelization pca/data/williamsport_bldings-5-5a_segment\", voxel_size=0.1)\n",
    "preprocess.pts_to_pcd(file_prefix=\"D:/Research Project - Zahkor/panelization pca/data/williamsport_bldg_7\")"
   ]
  },
  {
   "cell_type": "code",
   "execution_count": 22,
   "metadata": {
    "tags": []
   },
   "outputs": [
    {
     "output_type": "stream",
     "name": "stdout",
     "text": "downsampled written correctly for voxel size: 0.05 !\n"
    }
   ],
   "source": [
    "downsample.down_sample_write(\"D:/Research Project - Zahkor/panelization pca/data/williamsport_bldg_7\", voxel_size=0.05)"
   ]
  },
  {
   "cell_type": "code",
   "execution_count": 23,
   "metadata": {
    "tags": []
   },
   "outputs": [
    {
     "output_type": "execute_result",
     "data": {
      "text/plain": "True"
     },
     "metadata": {},
     "execution_count": 23
    }
   ],
   "source": [
    "pcd = o3d.io.read_point_cloud(\"D:/Research Project - Zahkor/panelization pca/data/williamsport_bldg_7_downsampled_0.05.pcd\")\n",
    "#pcd = o3d.io.read_point_cloud(\"data/36_N_First_RCS_downsampled_0.1.pcd\")\n",
    "search_tree = o3d.geometry.KDTreeSearchParamHybrid(radius=0.5, max_nn=100)\n",
    "\n",
    "pcd.estimate_normals(search_param=search_tree)"
   ]
  },
  {
   "cell_type": "code",
   "execution_count": 24,
   "metadata": {
    "tags": []
   },
   "outputs": [
    {
     "output_type": "stream",
     "name": "stdout",
     "text": "point 1 of 274580\nfinished grouping in: 463.4518351000006 s\n"
    }
   ],
   "source": [
    "start = time.clock()\n",
    "groupings = segmentation.group_by_normals(pcd, r_seg=1.0, k_nn=100, search=\"knn\")\n",
    "print(\"finished grouping in:\", time.clock() - start, \"s\")"
   ]
  },
  {
   "cell_type": "code",
   "execution_count": 25,
   "metadata": {
    "tags": []
   },
   "outputs": [
    {
     "output_type": "stream",
     "name": "stdout",
     "text": "algorithm has found 17 equations.\n"
    }
   ],
   "source": [
    "equations = segmentation.compute_equation_by_groups(pcd, groupings, dist_thresh=0.1)\n",
    "print(\"algorithm has found\", len(equations), \"equations.\")"
   ]
  },
  {
   "cell_type": "code",
   "execution_count": 46,
   "metadata": {
    "tags": []
   },
   "outputs": [
    {
     "output_type": "stream",
     "name": "stdout",
     "text": "Plane equation facade: 1.00x + 0.01y + 0.01z + -1601.09 = 0\ntotal time: 333.10796619999746\n"
    }
   ],
   "source": [
    "williams_building_pcd = o3d.io.read_point_cloud(\"D:/Research Project - Zahkor/panelization pca/data/williamsport_bldg_7_downsampled_0.05.pcd\")\n",
    "eq = equations[16]\n",
    "start = time.clock()\n",
    "visualization_tools.visualize_3d_equation(williams_building_pcd, eq, distance_threshhold=0.1, color=[1,0,0])\n",
    "print(\"total time:\", time.clock() - start)\n"
   ]
  },
  {
   "cell_type": "code",
   "execution_count": 45,
   "metadata": {
    "tags": []
   },
   "outputs": [],
   "source": [
    "pcd = o3d.io.read_point_cloud(\"data/36_N_First_RCS_downsampled_0.1.pcd\")\n",
    "o3d.visualization.draw_geometries([pcd])"
   ]
  },
  {
   "cell_type": "code",
   "execution_count": null,
   "metadata": {},
   "outputs": [],
   "source": []
  }
 ],
 "metadata": {
  "kernelspec": {
   "display_name": "Python 3.6.10 64-bit ('panelization': conda)",
   "language": "python",
   "name": "python_defaultSpec_1596529463782"
  },
  "language_info": {
   "codemirror_mode": {
    "name": "ipython",
    "version": 3
   },
   "file_extension": ".py",
   "mimetype": "text/x-python",
   "name": "python",
   "nbconvert_exporter": "python",
   "pygments_lexer": "ipython3",
   "version": "3.6.10-final"
  }
 },
 "nbformat": 4,
 "nbformat_minor": 2
}